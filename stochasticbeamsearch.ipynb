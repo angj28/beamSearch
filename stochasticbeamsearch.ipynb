{
 "cells": [
  {
   "cell_type": "markdown",
   "id": "cb73fcc8",
   "metadata": {},
   "source": [
    "Stochastic Beam Search Example\n"
   ]
  },
  {
   "cell_type": "code",
   "execution_count": null,
   "id": "8cd9965b",
   "metadata": {},
   "outputs": [
    {
     "name": "stdout",
     "output_type": "stream",
     "text": [
      "ACEF\n",
      "ACF\n"
     ]
    }
   ],
   "source": [
    "import numpy as np \n",
    "import random \n",
    "\n",
    "# initalize dummy example with text generation in alphabet list \n",
    "# given previous sequence val is .. what are prob. of other token vals -- initalize probabilities \n",
    "def conditional_probabilities(char):\n",
    "    return {\n",
    "    '':[0.01, 0.6, 0.2, 0.1, 0.06, 0.02, 0.01], \n",
    "    'A':[0.01, 0.01, 0.6, 0.2, 0.1, 0.06, 0.02], \n",
    "    'B':[0.01, 0.02, 0.01, 0.6, 0.2, 0.1, 0.06], \n",
    "    'C':[0.01, 0.06, 0.02, 0.01, 0.6, 0.2, 0.1],\n",
    "    'D':[0.1, 0.02, 0.02, 0.02, 0.02, 0.6, 0.22], \n",
    "    'E':[0.3, 0.02, 0.02, 0.02, 0.02, 0.02, 0.6], \n",
    "    'F':[0.7, 0.02, 0.02, 0.02, 0.02, 0.02, 0.1], \n",
    "}.get(char[-1:], [0.14, 0.14, 0.14, 0.14, 0.14, 0.14, 0.14])  \n",
    "\n",
    "# vocabulary size we have \n",
    "vocab = ['','A', 'B', 'C', 'D', 'E', 'F']  \n",
    "# initalize beam with our input \n",
    "beam = [(\"AC\", 0.0)] \n",
    "\n",
    "for t in range(3):\n",
    "    all_candidates = []\n",
    "    # handle duplicates \n",
    "    seen_sequences = set()\n",
    "\n",
    "    for seq, prob in beam:\n",
    "        # get conditional prob for next sequen given \n",
    "        probs = conditional_probabilities(seq)\n",
    "        \n",
    "        # randomly sample from vocab with the prbabilities \n",
    "        sampled_tokens = random.choices(vocab, weights=probs, k=2)\n",
    "\n",
    "        # generate new sequence\n",
    "        for token in sampled_tokens:\n",
    "            idx = vocab.index(token)\n",
    "            new_seq = seq + token\n",
    "            new_logp = prob + np.log(probs[idx])  \n",
    "            if new_seq not in seen_sequences:\n",
    "                all_candidates.append((new_seq, new_logp))\n",
    "                seen_sequences.add(new_seq)\n",
    "\n",
    "    # keep top k \n",
    "    beam = sorted(all_candidates, key=lambda x: x[1], reverse=True)[:2]\n",
    "\n",
    "# print top k kept \n",
    "for seq, prob in beam:\n",
    "     print(seq)"
   ]
  }
 ],
 "metadata": {
  "kernelspec": {
   "display_name": "base",
   "language": "python",
   "name": "python3"
  },
  "language_info": {
   "codemirror_mode": {
    "name": "ipython",
    "version": 3
   },
   "file_extension": ".py",
   "mimetype": "text/x-python",
   "name": "python",
   "nbconvert_exporter": "python",
   "pygments_lexer": "ipython3",
   "version": "3.11.6"
  }
 },
 "nbformat": 4,
 "nbformat_minor": 5
}
